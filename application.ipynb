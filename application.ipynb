{
 "cells": [
  {
   "cell_type": "markdown",
   "metadata": {},
   "source": [
    "# Import Packages"
   ]
  },
  {
   "cell_type": "code",
   "execution_count": 1,
   "metadata": {},
   "outputs": [
    {
     "name": "stderr",
     "output_type": "stream",
     "text": [
      "Using TensorFlow backend.\n"
     ]
    }
   ],
   "source": [
    "# Other\n",
    "import cv2\n",
    "import numpy as np\n",
    "from statistics import mode\n",
    "from keras.models import load_model\n",
    "# Local\n",
    "from helper import get_labels\n",
    "from helper import detect_faces\n",
    "from helper import draw_text\n",
    "from helper import draw_bounding_box\n",
    "from helper import apply_offsets\n",
    "from helper import load_detection_model\n",
    "from helper import preprocess_input"
   ]
  },
  {
   "cell_type": "markdown",
   "metadata": {},
   "source": [
    "# Model Paths"
   ]
  },
  {
   "cell_type": "code",
   "execution_count": 2,
   "metadata": {},
   "outputs": [],
   "source": [
    "# assign variables to model path\n",
    "face_detection_path = 'models/detection/haarcascade_frontalface_default.xml'\n",
    "emotion_rec_path = 'models/emotion/XCEPTION_107-0.66.hdf5'\n",
    "emotion_labels = get_labels()"
   ]
  },
  {
   "cell_type": "markdown",
   "metadata": {},
   "source": [
    "# Bounding Boxes"
   ]
  },
  {
   "cell_type": "code",
   "execution_count": 3,
   "metadata": {},
   "outputs": [],
   "source": [
    "frame_window = 10\n",
    "emotion_offsets = (20, 40)"
   ]
  },
  {
   "cell_type": "markdown",
   "metadata": {},
   "source": [
    "# Load Models"
   ]
  },
  {
   "cell_type": "code",
   "execution_count": null,
   "metadata": {},
   "outputs": [
    {
     "name": "stdout",
     "output_type": "stream",
     "text": [
      "WARNING:tensorflow:From C:\\Users\\Alan\\Anaconda3\\envs\\FER\\lib\\site-packages\\tensorflow\\python\\framework\\op_def_library.py:263: colocate_with (from tensorflow.python.framework.ops) is deprecated and will be removed in a future version.\n",
      "Instructions for updating:\n",
      "Colocations handled automatically by placer.\n"
     ]
    }
   ],
   "source": [
    "# loading models\n",
    "face_detection = load_detection_model(face_detection_path)\n",
    "emotion_rec = load_model(emotion_rec_path, compile=False)"
   ]
  },
  {
   "cell_type": "code",
   "execution_count": null,
   "metadata": {},
   "outputs": [],
   "source": [
    "# getting input model shapes for displaying results\n",
    "emotion_target_size = emotion_rec.input_shape[1:3]"
   ]
  },
  {
   "cell_type": "code",
   "execution_count": null,
   "metadata": {},
   "outputs": [],
   "source": [
    "# starting lists for calculating modes\n",
    "emotion_window = []"
   ]
  },
  {
   "cell_type": "markdown",
   "metadata": {},
   "source": [
    "# Start Video Streaming for Emotion Detection"
   ]
  },
  {
   "cell_type": "code",
   "execution_count": null,
   "metadata": {},
   "outputs": [],
   "source": [
    "# starting video streaming\n",
    "cv2.namedWindow('Camera_Emotion_Detection') # set window name\n",
    "video_capture = cv2.VideoCapture(0) # assign default webcame as video source\n",
    "while True:\n",
    "    bgr_img = video_capture.read()[1] # read the frame\n",
    "    gray_img = cv2.cvtColor(bgr_img, cv2.COLOR_BGR2GRAY) # convert BGR to GRAY\n",
    "    rgb_img = cv2.cvtColor(bgr_img, cv2.COLOR_BGR2RGB) # convert BGR to RGB\n",
    "    faces = detect_faces(face_detection, gray_img) # detect faces using Haar\n",
    "\n",
    "    for face_coordinates in faces: # for each face detected\n",
    "\n",
    "        x1, x2, y1, y2 = apply_offsets(face_coordinates, emotion_offsets) # apply face and emotion coordinates\n",
    "        gray_face = gray_img[y1:y2, x1:x2] # set face coordinates on grayscale image\n",
    "        try:\n",
    "            gray_face = cv2.resize(gray_face, (emotion_target_size)) # resize the image to emotion image size\n",
    "        except:\n",
    "            continue\n",
    "\n",
    "        gray_face = preprocess_input(gray_face, True) # convert pixel values to between -1 and 1\n",
    "        gray_face = np.expand_dims(gray_face, 0) # add space after each pixel coordinate\n",
    "        gray_face = np.expand_dims(gray_face, -1) # add new line after each pixel coordinate\n",
    "        emotion_prediction = emotion_rec.predict(gray_face) # use model to predict face emotion\n",
    "        emotion_probability = np.max(emotion_prediction) # assign the mostly like emotion values\n",
    "        emotion_label_arg = np.argmax(emotion_prediction) # assign most occuring emotion value\n",
    "        emotion_text = emotion_labels[emotion_label_arg] # # assign corresponding emotion text\n",
    "        emotion_window.append(emotion_text) # append the emotion text to array\n",
    "\n",
    "        if len(emotion_window) > frame_window: # if number of appended emotions is greater than 10\n",
    "            emotion_window.pop(0) # remove the oldest predicted emotion\n",
    "        try:\n",
    "            emotion_mode = mode(emotion_window) # create array of most commonly occuring emotions\n",
    "        except:\n",
    "            continue\n",
    "\n",
    "        # setup emotion colors\n",
    "        if emotion_text == 'angry':\n",
    "            color = emotion_probability * np.asarray((255, 0, 0))\n",
    "        elif emotion_text == 'sad':\n",
    "            color = emotion_probability * np.asarray((0, 0, 255))\n",
    "        elif emotion_text == 'happy':\n",
    "            color = emotion_probability * np.asarray((255, 255, 0))\n",
    "        elif emotion_text == 'surprise':\n",
    "            color = emotion_probability * np.asarray((0, 255, 255))\n",
    "        else:\n",
    "            color = emotion_probability * np.asarray((0, 255, 0))\n",
    "\n",
    "        color = color.astype(int)\n",
    "        color = color.tolist()\n",
    "\n",
    "        draw_bounding_box(face_coordinates, rgb_img, color) # draw face detection\n",
    "        draw_text(face_coordinates, rgb_img, emotion_mode, color, 0, -45, 1, 1) # draw the emotion text\n",
    "\n",
    "    bgr_img = cv2.cvtColor(rgb_img, cv2.COLOR_RGB2BGR)\n",
    "    cv2.imshow('window_frame', bgr_img)\n",
    "    if cv2.waitKey(1) & 0xFF == ord('q'):\n",
    "        break"
   ]
  },
  {
   "cell_type": "code",
   "execution_count": null,
   "metadata": {},
   "outputs": [],
   "source": []
  }
 ],
 "metadata": {
  "kernelspec": {
   "display_name": "Python 3",
   "language": "python",
   "name": "python3"
  },
  "language_info": {
   "codemirror_mode": {
    "name": "ipython",
    "version": 3
   },
   "file_extension": ".py",
   "mimetype": "text/x-python",
   "name": "python",
   "nbconvert_exporter": "python",
   "pygments_lexer": "ipython3",
   "version": "3.7.3"
  }
 },
 "nbformat": 4,
 "nbformat_minor": 2
}
