{
 "cells": [
  {
   "cell_type": "code",
   "execution_count": 25,
   "metadata": {},
   "outputs": [],
   "source": [
    "# Other\n",
    "import cv2\n",
    "import numpy as np\n",
    "from statistics import mode\n",
    "from keras.models import load_model\n",
    "# Local\n",
    "from helper import get_labels\n",
    "from helper import detect_faces\n",
    "from helper import draw_text\n",
    "from helper import draw_bounding_box\n",
    "from helper import apply_offsets\n",
    "from helper import load_detection_model\n",
    "from helper import preprocess_input\n",
    "\n",
    "USE_WEBCAM = False"
   ]
  },
  {
   "cell_type": "code",
   "execution_count": 26,
   "metadata": {},
   "outputs": [
    {
     "name": "stdout",
     "output_type": "stream",
     "text": [
      "Loaded Face Detection Model\n"
     ]
    }
   ],
   "source": [
    "# assign variable to model path\n",
    "face_detection_path = '../models/detection/haarcascade_frontalface_default.xml'\n",
    "\n",
    "# loading models\n",
    "try:\n",
    "    face_detection = load_detection_model(face_detection_path)\n",
    "    print(\"Loaded Face Detection Model\")\n",
    "except:\n",
    "    print(\"Failed Loading Face Detection Model\")"
   ]
  },
  {
   "cell_type": "code",
   "execution_count": 27,
   "metadata": {},
   "outputs": [],
   "source": [
    "# set frame window size\n",
    "frame_window = 10\n",
    "emotion_offsets = (20, 40)"
   ]
  },
  {
   "cell_type": "code",
   "execution_count": 28,
   "metadata": {},
   "outputs": [
    {
     "name": "stdout",
     "output_type": "stream",
     "text": [
      "Stream Started\n"
     ]
    }
   ],
   "source": [
    "# start video streaming\n",
    "cv2.namedWindow('window_frame')\n",
    "video_capture = cv2.VideoCapture(0)\n",
    "print(\"Stream Started\")"
   ]
  },
  {
   "cell_type": "code",
   "execution_count": 29,
   "metadata": {},
   "outputs": [
    {
     "name": "stdout",
     "output_type": "stream",
     "text": [
      "Loading Dinner Video\n",
      "Loaded Video\n"
     ]
    }
   ],
   "source": [
    "cap = None\n",
    "if (USE_WEBCAM == True):\n",
    "    cap = cv2.VideoCapture(0)\n",
    "else:\n",
    "    print(\"Loading Dinner Video\")\n",
    "    cap = cv2.VideoCapture('test_images/trailer.mp4')\n",
    "    \n",
    "print(\"Loaded Video\")"
   ]
  },
  {
   "cell_type": "code",
   "execution_count": 30,
   "metadata": {},
   "outputs": [],
   "source": [
    "while cap.isOpened():\n",
    "    ret, frame = cap.read() # read the frame\n",
    "    gray_img = cv2.cvtColor(frame, cv2.COLOR_BGR2GRAY) # convert BGR to GRAY\n",
    "    rgb_img = cv2.cvtColor(frame, cv2.COLOR_BGR2RGB) # convert BGR to RGB\n",
    "    \n",
    "    faces = detect_faces(face_detection, gray_img) # detect faces using Haar\n",
    "\n",
    "    for face_coordinates in faces: # for each face detected\n",
    "\n",
    "        x1, x2, y1, y2 = apply_offsets(face_coordinates, emotion_offsets) # apply face and emotion coordinates\n",
    "        gray_face = gray_img[y1:y2, x1:x2] # set face coordinates on grayscale image\n",
    "        \n",
    "        color = (255, 0, 0)\n",
    "        draw_bounding_box(face_coordinates, rgb_img, color) # draw face detection\n",
    "\n",
    "    bgr_img = cv2.cvtColor(rgb_img, cv2.COLOR_RGB2BGR)\n",
    "    cv2.imshow('window_frame', bgr_img)\n",
    "    if cv2.waitKey(1) & 0xFF == ord('q'):\n",
    "        break\n",
    "        \n",
    "cap.release()\n",
    "cv2.destroyAllWindows()"
   ]
  }
 ],
 "metadata": {
  "kernelspec": {
   "display_name": "Python 3",
   "language": "python",
   "name": "python3"
  },
  "language_info": {
   "codemirror_mode": {
    "name": "ipython",
    "version": 3
   },
   "file_extension": ".py",
   "mimetype": "text/x-python",
   "name": "python",
   "nbconvert_exporter": "python",
   "pygments_lexer": "ipython3",
   "version": "3.6.12"
  }
 },
 "nbformat": 4,
 "nbformat_minor": 4
}
